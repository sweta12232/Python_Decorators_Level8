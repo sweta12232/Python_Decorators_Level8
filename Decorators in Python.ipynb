{
 "cells": [
  {
   "cell_type": "markdown",
   "id": "34c68649",
   "metadata": {},
   "source": [
    "## Decorators "
   ]
  },
  {
   "cell_type": "markdown",
   "id": "5cb2043f",
   "metadata": {},
   "source": [
    "1. Decorators are functions in Python that allow you to add extra functionality to other functions or methods\n",
    "2. Decorators wrap around a function, modifying its behavior without changing its code directly."
   ]
  },
  {
   "cell_type": "code",
   "execution_count": null,
   "id": "2da2da09",
   "metadata": {},
   "outputs": [],
   "source": [
    "# decorators.py\n",
    "def decorate_func(func):\n",
    "    def wrapper():\n",
    "        print(\"Before Function\")\n",
    "        func()\n",
    "        print(\"After Function\")\n",
    "    return wrapper\n",
    "@decorate_func\n",
    "def show():\n",
    "    print(\"Hello World!\")\n",
    "\n",
    "show()\n"
   ]
  },
  {
   "cell_type": "code",
   "execution_count": null,
   "id": "ae23ae7d",
   "metadata": {},
   "outputs": [],
   "source": [
    "# Define a decorator function\n",
    "def my_decorator(func):\n",
    "    def wrapper():\n",
    "        print(\"Let's learn Python together\")\n",
    "        func()\n",
    "        print(\"Thank you for joinning\")\n",
    "    return wrapper\n",
    "\n",
    "# Apply the decorator using @decorator_name\n",
    "@my_decorator\n",
    "def say_hello():\n",
    "    print(\"Hello!\")\n",
    "\n",
    "# Call the decorated function\n",
    "say_hello()"
   ]
  },
  {
   "cell_type": "markdown",
   "id": "19284382",
   "metadata": {},
   "source": [
    "Can you define a decorator function in Python named decorate_function that adds functionality before and after the execution of another function? Apply this decorator to a function named display_message which simply prints \"This is a decorated function\". Ensure the decorator prints \"Before executing the function\" before the original function is called and \"After executing the function\" after the original function is called."
   ]
  },
  {
   "cell_type": "code",
   "execution_count": null,
   "id": "94cdbeb6",
   "metadata": {},
   "outputs": [],
   "source": [
    "def decorate_function(func):\n",
    "    def wrapper():\n",
    "        print(\"Before executing the function\")\n",
    "        func()\n",
    "        print(\"After executing the function\")\n",
    "    return wrapper # wrapper allows the decorated function to be replaced by the wrapper function.\n",
    "@decorate_function\n",
    "def display_message():\n",
    "    print(\"This is a decorated function\")\n",
    "    \n",
    "display_message()"
   ]
  },
  {
   "cell_type": "code",
   "execution_count": null,
   "id": "d9ecae17",
   "metadata": {},
   "outputs": [],
   "source": [
    "def logger(func):\n",
    "    def wrapper(*args, **kwargs):\n",
    "        print(\"Logging: Before executing the function\")\n",
    "        result = func(*args, **kwargs)\n",
    "        print(\"Logging: After executing the function\")\n",
    "        return result\n",
    "    return wrapper\n",
    "\n",
    "@logger\n",
    "def divide(a, b):\n",
    "    print(\"Inside the divide function\")\n",
    "    result = a / b\n",
    "    print(\"Result of division =\", result)\n",
    "    return result\n",
    "\n",
    "# Calling the decorated function\n",
    "a, b = 10, 2\n",
    "divide(a, b)"
   ]
  },
  {
   "cell_type": "markdown",
   "id": "b70f1424",
   "metadata": {},
   "source": [
    "### Chaining decorators"
   ]
  },
  {
   "cell_type": "markdown",
   "id": "557a9dc5",
   "metadata": {},
   "source": [
    "Chaining decorators in Python refers to applying multiple decorators to a single function in a sequential manner. When decorators are chained, the output of one decorator becomes the input to the next decorator in the chain. This allows for the composition of different behaviors or functionalities around a single function."
   ]
  },
  {
   "cell_type": "code",
   "execution_count": null,
   "id": "22a416b6",
   "metadata": {},
   "outputs": [],
   "source": [
    "# First decorator: Adds \"Hello\" to the return value\n",
    "def add_hello(func):\n",
    "    def wrapper():\n",
    "        return \"Hello \" + func()\n",
    "    return wrapper\n",
    "\n",
    "# Second decorator: Adds an exclamation mark to the return value\n",
    "def add_exclamation(func):\n",
    "    def wrapper():\n",
    "        return func() + \"!\"\n",
    "    return wrapper\n",
    "\n",
    "# Decorate a function with both decorators\n",
    "@add_hello\n",
    "@add_exclamation\n",
    "def greet():\n",
    "    return \"World\"\n",
    "\n",
    "# Call the decorated function\n",
    "print(greet())  # Output: Hello World!"
   ]
  },
  {
   "cell_type": "code",
   "execution_count": null,
   "id": "a9cb5cf9",
   "metadata": {},
   "outputs": [],
   "source": []
  }
 ],
 "metadata": {
  "kernelspec": {
   "display_name": "Python 3 (ipykernel)",
   "language": "python",
   "name": "python3"
  },
  "language_info": {
   "codemirror_mode": {
    "name": "ipython",
    "version": 3
   },
   "file_extension": ".py",
   "mimetype": "text/x-python",
   "name": "python",
   "nbconvert_exporter": "python",
   "pygments_lexer": "ipython3",
   "version": "3.9.12"
  }
 },
 "nbformat": 4,
 "nbformat_minor": 5
}
